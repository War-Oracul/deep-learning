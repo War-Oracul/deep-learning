{
 "cells": [
  {
   "cell_type": "code",
   "execution_count": 35,
   "id": "0b9444ea",
   "metadata": {},
   "outputs": [
    {
     "data": {
      "image/png": "[encoded data removed]",
      "text/plain": [
       "<Figure size 640x480 with 1 Axes>"
      ]
     },
     "metadata": {},
     "output_type": "display_data"
    }
   ],
   "source": [
    "import pandas as pd\n",
    "import numpy as np\n",
    "import matplotlib.pyplot as plt\n",
    "\n",
    "# Чтение данных\n",
    "df = pd.read_csv('data.csv')\n",
    "#df = df.iloc[np.random.permutation(len(df))]\n",
    "y = df.iloc[0:100, 4].values\n",
    "y = np.where(y == \"Iris-setosa\", 1, -1)\n",
    "X = df.iloc[0:100, [0, 2]].values\n",
    "\n",
    "# Визуализация данных\n",
    "plt.scatter(X[0:50, 0], X[0:50, 1], color='red', marker='o', label='Iris-setosa')\n",
    "plt.scatter(X[50:100, 0], X[50:100, 1], color='blue', marker='x', label='Not Iris-setosa')\n",
    "plt.xlabel('Sepal Length')\n",
    "plt.ylabel('Petal Length')\n",
    "plt.title('Iris Dataset - Sepal vs Petal Length')\n",
    "plt.legend()\n",
    "plt.show()"
   ]
  },
  {
   "cell_type": "code",
   "execution_count": 36,
   "id": "b187244a",
   "metadata": {},
   "outputs": [
    {
     "name": "stdout",
     "output_type": "stream",
     "text": [
      "[array([ 0.38792221,  0.77353509, -1.44602376])]\n",
      "Converged after 0 iterations.\n",
      "Errors: 0\n",
      "Number of iterations: 0\n",
      "Number of misclassifications: 0\n"
     ]
    }
   ],
   "source": [
    "#w = np.zeros(1 + X.shape[1])\n",
    "\n",
    "def train_err_check(X, y, search_err, max_iteration):\n",
    "    iteration = 0\n",
    "    w = np.random.randn(3)\n",
    "    learn_rate = 0.001\n",
    "    while (iteration<max_iteration):\n",
    "        errors = 0\n",
    "        for xi, target, j in zip(X, y, range(X.shape[0])):\n",
    "            predict = np.where((np.dot(xi, w[1:]) + w[0]) >= 0.0, 1, -1)\n",
    "            w[1:] += (learn_rate * (target - predict)) * xi\n",
    "            w[1] += learn_rate * (target - predict)\n",
    "            errors += int((target - predict) != 0)\n",
    "        print([w])\n",
    "        if errors == 0:\n",
    "            print(f\"Converged after {iteration} iterations.\")\n",
    "            break\n",
    "\n",
    "        if errors < search_err:\n",
    "            print(f\"Converged with less than {search_err} errors after {iteration} iterations.\")\n",
    "            break\n",
    "\n",
    "        iteration += 1\n",
    "\n",
    "    # Count misclassifications\n",
    "    predict = np.where(np.dot(X, w[1:]) + w[0] >= 0.0, 1, -1)\n",
    "    misclassified = np.sum(predict-y)\n",
    "    print(f\"Errors: {errors}\")\n",
    "    print(f\"Number of iterations: {iteration}\")\n",
    "    print(f\"Number of misclassifications: {misclassified}\")\n",
    "    \n",
    "    \n",
    "train_err_check(X,y, 0.1, 1000)"
   ]
  },
  {
   "cell_type": "code",
   "execution_count": 44,
   "id": "906f39e2",
   "metadata": {},
   "outputs": [
    {
     "name": "stdout",
     "output_type": "stream",
     "text": [
      "Training stopped due to cycling after 31 iterations.\n",
      "Errors: 0\n",
      "Number of iterations: 31\n",
      "Number of misclassifications: 0\n"
     ]
    }
   ],
   "source": [
    "def train_cycle_check(X, y, max_iteration, max_stale_iterations):\n",
    "    w = np.random.randn(3)\n",
    "    learn_rate = 0.001\n",
    "    iteration = 0\n",
    "    #prev_weights = np.copy(w)\n",
    "    history = [w.copy]\n",
    "    stale_iterations = 0\n",
    "    while (iteration<max_iteration):\n",
    "        errors = 0\n",
    "\n",
    "        for xi, target, j in zip(X, y, range(X.shape[0])):\n",
    "            predict = np.where((np.dot(xi, w[1:]) + w[0]) >= 0.0, 1, -1)\n",
    "            w[1:] += (learn_rate * (target - predict)) * xi\n",
    "            w[1] += learn_rate * (target - predict)\n",
    "            errors += int((target - predict) != 0)\n",
    "        # Check for cycling\n",
    "       # if np.array_equal(w, prev_weights):\n",
    "       #     stale_iterations += 1\n",
    "       # else:\n",
    "       #     stale_iterations = 0\n",
    "\n",
    "       # if stale_iterations >= max_stale_iterations:\n",
    "        #    print(f\"Training stopped due to cycling after {iteration} iterations.\")\n",
    "        #    break\n",
    "        if any(np.array_equal(w,prew_weight) for prew_weight in history):\n",
    "            print(f\"Training stopped due to cycling after {iteration} iterations.\")\n",
    "            break;\n",
    "        \n",
    "        history.append(w.copy())\n",
    "       # prev_weights = np.copy(w)\n",
    "        iteration += 1\n",
    "\n",
    "    # Count misclassifications\n",
    "    predictions = np.where(np.dot(X, w[1:]) + w[0] >= 0.0, 1, -1)\n",
    "    misclassified = np.sum(predictions != y)\n",
    "    print(f\"Errors: {errors}\")\n",
    "    print(f\"Number of iterations: {iteration}\")\n",
    "    print(f\"Number of misclassifications: {misclassified}\")\n",
    "train_cycle_check(X,y, 100, 20)"
   ]
  },
  {
   "cell_type": "code",
   "execution_count": null,
   "id": "5adb3be3",
   "metadata": {},
   "outputs": [],
   "source": []
  },
  {
   "cell_type": "code",
   "execution_count": null,
   "id": "ef2fd93f",
   "metadata": {},
   "outputs": [],
   "source": []
  },
  {
   "cell_type": "code",
   "execution_count": null,
   "id": "7934e83e",
   "metadata": {},
   "outputs": [],
   "source": []
  }
 ],
 "metadata": {
  "kernelspec": {
   "display_name": "Python 3 (ipykernel)",
   "language": "python",
   "name": "python3"
  },
  "language_info": {
   "codemirror_mode": {
    "name": "ipython",
    "version": 3
   },
   "file_extension": ".py",
   "mimetype": "text/x-python",
   "name": "python",
   "nbconvert_exporter": "python",
   "pygments_lexer": "ipython3",
   "version": "3.11.4"
  }
 },
 "nbformat": 4,
 "nbformat_minor": 5
}
