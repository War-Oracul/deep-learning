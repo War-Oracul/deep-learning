{
  "cells": [
    {
      "cell_type": "code",
      "execution_count": 40,
      "id": "482b56fd-849f-4142-bdf7-2355d7427b01",
      "metadata": {
        "id": "482b56fd-849f-4142-bdf7-2355d7427b01"
      },
      "outputs": [],
      "source": [
        "from time import time\n",
        "import numpy as np\n",
        "import pandas as pd\n",
        "\n",
        "import re\n",
        "import nltk\n",
        "from nltk.corpus import stopwords\n",
        "from gensim.models import word2vec\n",
        "\n",
        "from sklearn.neural_network import MLPClassifier\n",
        "from sklearn.model_selection import train_test_split"
      ]
    },
    {
      "cell_type": "code",
      "execution_count": 41,
      "id": "44327d2a-b0da-4a80-8c25-5ea272d83c2f",
      "metadata": {
        "colab": {
          "base_uri": "https://localhost:8080/"
        },
        "id": "44327d2a-b0da-4a80-8c25-5ea272d83c2f",
        "outputId": "c9650370-cfd4-4e62-80e1-37fcff3e4a29"
      },
      "outputs": [
        {
          "output_type": "stream",
          "name": "stdout",
          "text": [
            "В наборе предложений: \n",
            " 14412\n"
          ]
        }
      ],
      "source": [
        "df = pd.read_csv(\"./labeled_rutoxic.csv\", delimiter=',', header=0, names=['sentence', 'label'])\n",
        "\n",
        "print('В наборе предложений: \\n',df.shape[0])"
      ]
    },
    {
      "cell_type": "code",
      "execution_count": 42,
      "id": "e5f651c3-a790-40d9-901f-3d49c5d672aa",
      "metadata": {
        "colab": {
          "base_uri": "https://localhost:8080/"
        },
        "id": "e5f651c3-a790-40d9-901f-3d49c5d672aa",
        "outputId": "062d1ec8-9b32-4ad7-e585-1cf607ee221c"
      },
      "outputs": [
        {
          "output_type": "stream",
          "name": "stdout",
          "text": [
            "toxic: 4826\n",
            "not toxic: 9586\n"
          ]
        }
      ],
      "source": [
        "print('toxic:', df[df['label'] > 0]['label'].count())\n",
        "print('not toxic:', df[df['label'] < 1]['label'].count())"
      ]
    },
    {
      "cell_type": "markdown",
      "id": "a2cd8300-5eeb-4bb3-bbe1-d5264483c74b",
      "metadata": {
        "id": "a2cd8300-5eeb-4bb3-bbe1-d5264483c74b"
      },
      "source": [
        "## Разбиение на тестовые и обучающие"
      ]
    },
    {
      "cell_type": "code",
      "execution_count": 43,
      "id": "fffe44dd-9d8c-4393-84c4-234e2b6acdd0",
      "metadata": {
        "id": "fffe44dd-9d8c-4393-84c4-234e2b6acdd0"
      },
      "outputs": [],
      "source": [
        "X = df.iloc[:,0]#\n",
        "y = df.iloc[:,1]#\n",
        "\n",
        "train , test , y_train, y_test = train_test_split(X, y, test_size=0.3) # и отдаем 30% на тест, остальное на обучен"
      ]
    },
    {
      "cell_type": "markdown",
      "id": "2b1eb41e-b113-4013-9cdc-cb71afaa3af7",
      "metadata": {
        "id": "2b1eb41e-b113-4013-9cdc-cb71afaa3af7"
      },
      "source": [
        "## Разбиение на слова с помощью модели Word2Vec"
      ]
    },
    {
      "cell_type": "code",
      "execution_count": 44,
      "id": "2c41623a-ee01-455e-818b-753fd394c2ce",
      "metadata": {
        "colab": {
          "base_uri": "https://localhost:8080/"
        },
        "id": "2c41623a-ee01-455e-818b-753fd394c2ce",
        "outputId": "6b3afc4d-1d7f-4e85-c7b7-a4bd3e28b6ab"
      },
      "outputs": [
        {
          "output_type": "stream",
          "name": "stderr",
          "text": [
            "[nltk_data] Downloading package wordnet to /root/nltk_data...\n",
            "[nltk_data]   Package wordnet is already up-to-date!\n",
            "[nltk_data] Downloading package omw-1.4 to /root/nltk_data...\n",
            "[nltk_data]   Package omw-1.4 is already up-to-date!\n"
          ]
        },
        {
          "output_type": "stream",
          "name": "stdout",
          "text": [
            "\n",
            "Sentences_train:\n",
            "3091     [я, в, курсе, за, каргокульты, их, самолеты, п...\n",
            "13633    [я, тебе, ещ, раз, говорю, ты, баран, тупороты...\n",
            "3050                         [шаболда, уровня, легалпорно]\n",
            "851      [что, делать, свети, ться, ться, ться, ться, т...\n",
            "9249     [вы, определитесь, нужно, производство, нужны,...\n",
            "9161     [вы, не, о, том, говорите, контроль, подразуме...\n",
            "943             [н, е, к, у, к, о, л, д, ы, и, р, а, з, у]\n",
            "2715     [жидам, нельзя, доверять, жид, всегда, будет, ...\n",
            "928      [эта, та, история, что, наука, или, та, что, к...\n",
            "3823      [узкий, хват, в, таком, случае, максимум, травм]\n",
            "Name: sentence, dtype: object\n"
          ]
        }
      ],
      "source": [
        "import re\n",
        "import nltk\n",
        "nltk.download('wordnet')\n",
        "nltk.download('omw-1.4')\n",
        "from nltk.corpus import stopwords\n",
        "from nltk.stem import WordNetLemmatizer\n",
        "\n",
        "# Инициализация лемматизатора\n",
        "lemmatizer = WordNetLemmatizer()\n",
        "\n",
        "# Метод преобразования текста в слова\n",
        "def text_to_words(raw_text, remove_stopwords=False):\n",
        "    # Удаление лишних символов, оставляем только буквы и цифры\n",
        "    letters_and_numbers_only = re.sub(\"[^0-9а-яА-Я]\", \" \", raw_text)\n",
        "\n",
        "    # Приведение к нижнему регистру и токенизация\n",
        "    words = letters_and_numbers_only.lower().split()\n",
        "\n",
        "    # Удаление стоп-слов, если требуется\n",
        "    if remove_stopwords:\n",
        "        stops = set(stopwords.words(\"russian\"))\n",
        "        words = [w for w in words if not w in stops]\n",
        "\n",
        "    # Лемматизация\n",
        "    words = [lemmatizer.lemmatize(word) for word in words]\n",
        "\n",
        "    return words\n",
        "\n",
        "sentences_train = train.apply(text_to_words, remove_stopwords=False)\n",
        "sentences_test = test.apply(text_to_words, remove_stopwords=False)\n",
        "print(\"\\nSentences_train:\")\n",
        "print(sentences_train[:10])"
      ]
    },
    {
      "cell_type": "code",
      "execution_count": 59,
      "id": "00c38fd3-7566-4a1c-abac-1d05e50279c2",
      "metadata": {
        "colab": {
          "base_uri": "https://localhost:8080/"
        },
        "id": "00c38fd3-7566-4a1c-abac-1d05e50279c2",
        "outputId": "003c8cc6-93f1-4d72-a109-83b9bd2f444d"
      },
      "outputs": [
        {
          "output_type": "stream",
          "name": "stdout",
          "text": [
            "3091    [я, в, курсе, за, каргокульты, их, самолеты, п...\n",
            "Name: sentence, dtype: object\n",
            "(300,)\n",
            "[ 6.04244834e-03 -3.04302629e-02  1.55952051e-01  4.69616912e-02\n",
            "  3.81012186e-02 -1.87213257e-01 -2.26431623e-01  1.30195901e-01\n",
            "  3.28672789e-02 -3.05439085e-02  2.54044503e-01 -1.85467988e-01\n",
            "  4.80611175e-02 -1.88185960e-01 -1.51656017e-01 -1.63152829e-01\n",
            "  6.74176887e-02 -9.97117255e-03  1.30403280e-01  3.18484336e-01\n",
            " -2.52727699e-02 -1.14951804e-01  1.36236295e-01 -1.77274607e-02\n",
            "  2.60671735e-01 -7.28831142e-02 -1.42565846e-01 -2.27121815e-01\n",
            " -6.01600222e-02 -4.56124067e-01  2.20427662e-01 -1.52850151e-01\n",
            "  1.73288122e-01 -4.15189490e-02  1.60807241e-02 -1.38811588e-01\n",
            " -1.46530792e-01 -2.41404161e-01  1.31483218e-02 -6.70249388e-02\n",
            "  1.59195423e-01  2.38658994e-01 -1.26081795e-01 -2.90445417e-01\n",
            "  1.27652809e-01  1.56284243e-01  4.05189656e-02 -9.78976488e-02\n",
            "  3.47906798e-02 -1.64468065e-01  1.87533617e-01  1.65780172e-01\n",
            " -2.70791054e-01 -6.12659231e-02 -1.53882220e-01  2.60366321e-01\n",
            " -8.68326724e-02 -1.35508329e-01  6.73769489e-02 -2.79411852e-01\n",
            " -1.95887834e-01 -4.41456214e-02  6.91284835e-02  7.29672015e-02\n",
            " -9.48916823e-02 -2.10744530e-01  3.83800194e-02  1.53148770e-01\n",
            " -1.71656862e-01 -1.69156432e-01 -1.75366104e-01 -1.02192741e-02\n",
            "  5.05402125e-02  4.85215383e-03 -1.73123598e-01  4.45918888e-02\n",
            " -2.52019376e-01  6.98330477e-02 -2.48913795e-01  3.80763888e-01\n",
            " -9.90658104e-02 -2.95426726e-01  1.96789242e-02  3.08747590e-01\n",
            "  2.11475581e-01 -3.34944874e-02 -3.14054310e-01  1.15573317e-01\n",
            "  2.67860852e-02  5.41053563e-02  8.95120725e-02 -1.13868669e-01\n",
            " -7.39535987e-02 -9.30535197e-02  8.34919363e-02  2.67220348e-01\n",
            " -1.63600713e-01  8.90162662e-02  7.44302571e-02  1.51000982e-02\n",
            " -2.44299293e-01 -1.60847351e-01 -4.36698422e-02 -9.14252624e-02\n",
            "  2.00213999e-01 -1.62257582e-01 -6.30896259e-03  3.10086757e-02\n",
            "  2.05405969e-02 -4.19358648e-02 -9.15478393e-02 -2.57115126e-01\n",
            " -2.14824304e-02 -6.55151485e-03  1.24685809e-01 -3.30347009e-03\n",
            " -5.49949892e-02 -4.79515828e-02  5.42556681e-02  6.12178184e-02\n",
            " -7.50578195e-02 -1.69908881e-01  2.12158889e-01 -1.71913728e-01\n",
            "  1.43049762e-01 -6.02201112e-02 -1.56125084e-01  2.18308613e-01\n",
            "  3.60610113e-02 -5.56883868e-03  1.52292280e-02  1.64941877e-01\n",
            "  6.32388592e-02 -1.16823591e-01 -6.56403005e-02  1.26617225e-02\n",
            " -1.14701651e-01 -2.61257049e-02 -1.84108436e-01 -1.27775162e-01\n",
            "  8.82928148e-02 -1.06435820e-01 -1.49719805e-01  1.46766333e-02\n",
            "  2.45126267e-03 -3.97483975e-01 -4.74667624e-02  1.01587012e-01\n",
            "  1.08340889e-01 -2.36102909e-01  1.44232005e-01 -4.00186718e-01\n",
            "  8.97036269e-02 -1.72537118e-02  3.87842245e-02 -1.59244593e-02\n",
            "  3.55120264e-02 -2.48725265e-02 -2.52475217e-02  3.62595201e-01\n",
            " -1.05057540e-03  1.48708306e-04 -4.62774605e-01  1.36478186e-01\n",
            " -3.22570562e-01  1.86966911e-01  3.33454870e-02 -1.37404501e-01\n",
            " -2.54699364e-02  3.87286782e-01 -2.23903492e-01  1.28536493e-01\n",
            "  3.57681215e-02  1.82344154e-01 -2.71644980e-01  3.37114260e-02\n",
            " -1.29963160e-01 -1.65671632e-01  1.85812532e-03 -2.93522161e-02\n",
            " -3.19924146e-01  3.87128368e-02  3.01574599e-02 -2.37891510e-01\n",
            " -4.16567810e-02  1.02621447e-02  7.65658543e-02 -3.18184942e-02\n",
            "  1.57740135e-02  1.57080054e-01  7.54947662e-02 -1.48569509e-01\n",
            " -2.59460866e-01  1.08056061e-01  8.00172761e-02  2.05174554e-02\n",
            "  2.11984307e-01  2.97496598e-02  3.26798968e-02  1.67438984e-02\n",
            " -3.70790362e-01 -1.22387543e-01 -1.15889475e-01  8.57122019e-02\n",
            " -2.13227943e-01 -7.05398619e-02 -2.51254201e-01 -1.08251227e-02\n",
            " -5.53976633e-02 -3.35971415e-01 -8.53452832e-02 -3.85179706e-02\n",
            " -1.47521600e-01 -4.21825908e-02  1.27546772e-01 -4.78264987e-01\n",
            " -1.74171939e-01 -3.09600115e-01 -1.88187584e-01 -1.12936631e-01\n",
            "  5.44905476e-02  2.43866108e-02 -3.17894816e-01  7.55741075e-02\n",
            "  6.23547435e-02 -2.67967850e-01 -4.89400886e-02  1.40505552e-01\n",
            " -2.35127762e-01 -1.43564362e-02  1.97120696e-01 -5.70677780e-02\n",
            " -6.78629577e-02  1.19399816e-01 -6.25804961e-02  2.29212910e-01\n",
            " -1.42765269e-01 -1.21386409e-01  2.24141955e-01  3.74655449e-03\n",
            " -1.28708798e-02 -9.49951187e-02 -2.79875994e-02 -5.13386205e-02\n",
            "  8.99269134e-02 -4.02499624e-02 -1.37284398e-01  4.53805029e-02\n",
            "  1.09951131e-01  2.00131267e-01 -1.29339984e-02  7.74526794e-04\n",
            " -1.08243831e-01  8.47519264e-02 -2.40883827e-01  5.78609183e-02\n",
            " -2.23602653e-02  1.05254650e-01 -2.91042835e-01 -1.26561865e-01\n",
            "  2.33973581e-02  2.32404932e-01  3.34416442e-02 -3.73293906e-01\n",
            " -3.21040899e-01  1.03642546e-01 -1.10806916e-02 -6.35355115e-02\n",
            " -1.85092926e-01  1.99120447e-01 -7.79134482e-02  2.76501954e-01\n",
            "  7.94591531e-02  9.53259245e-02  3.98965597e-01  8.35396945e-02\n",
            "  9.56666693e-02  6.45701066e-02 -1.78338051e-01 -1.29461631e-01\n",
            "  1.43431947e-01 -1.72877207e-01 -2.97282666e-01  5.81409521e-02\n",
            " -3.80031578e-02 -6.15474470e-02 -3.61279905e-01  3.01275533e-02\n",
            "  8.92304257e-02  2.84983039e-01 -1.08355217e-01  1.76302344e-01\n",
            " -6.38973899e-03 -1.41056394e-03 -3.99255473e-03  3.37395608e-01\n",
            " -3.22564244e-02 -1.44953460e-01  1.60353243e-01 -2.49392182e-01]\n"
          ]
        }
      ],
      "source": [
        "\n",
        "num_features = 300\n",
        "min_word_count = 40\n",
        "num_workers = 4\n",
        "context = 20\n",
        "downsampling = 1e-3\n",
        "model = word2vec.Word2Vec(sentences_train, workers=num_workers, vector_size=num_features, min_count = min_word_count, window = context, sample = downsampling)\n",
        "print(sentences_train[:1])\n",
        "print(model.wv[1].shape)\n",
        "print(model.wv[1])"
      ]
    },
    {
      "cell_type": "code",
      "execution_count": 46,
      "id": "19878cb6-5b6b-460d-a3a2-b76bf871ad70",
      "metadata": {
        "colab": {
          "base_uri": "https://localhost:8080/"
        },
        "id": "19878cb6-5b6b-460d-a3a2-b76bf871ad70",
        "outputId": "ef52c359-d053-460b-bfc6-174a6181af12"
      },
      "outputs": [
        {
          "output_type": "stream",
          "name": "stdout",
          "text": [
            "Числовые вектора предложений полученные из усреднения его векторов слов:\n",
            "[[-0.03328236 -0.00121379  0.17288294 ... -0.16263957  0.1967497\n",
            "  -0.18197   ]\n",
            " [-0.09652852  0.19179352  0.01154332 ... -0.07593644  0.12609579\n",
            "   0.01830778]\n",
            " [ 0.          0.          0.         ...  0.          0.\n",
            "   0.        ]\n",
            " ...\n",
            " [-0.0768503   0.19889422  0.01900334 ... -0.11224172  0.121709\n",
            "  -0.00285473]\n",
            " [-0.0761342   0.17978963  0.03542842 ... -0.1162403   0.12634583\n",
            "  -0.01343997]\n",
            " [-0.02748077  0.08471926  0.1123777  ... -0.15854587  0.17173629\n",
            "  -0.12328024]]\n"
          ]
        }
      ],
      "source": [
        "# получение векторного представления\n",
        "def makeFeatureVec(words, model, num_features):\n",
        "    featureVec = np.zeros((num_features,), dtype=\"float32\")\n",
        "    nwords = 0\n",
        "\n",
        "    index2word_set = set(model.wv.index_to_key)\n",
        "\n",
        "    for word in words:\n",
        "        if word in index2word_set:\n",
        "            nwords = nwords + 1\n",
        "            featureVec = np.add(featureVec, model.wv[word])\n",
        "\n",
        "    if nwords == 0:\n",
        "        nwords = 1\n",
        "    featureVec = np.divide(featureVec, nwords)\n",
        "    return featureVec\n",
        "\n",
        "# получение среднего векторного простнраства для предложения\n",
        "def getAvgFeatureVecs(reviews, model, num_features):\n",
        "    reviewFeatureVecs = np.zeros((len(reviews), num_features), dtype=\"float32\")\n",
        "    counter = 0\n",
        "    for review in reviews:\n",
        "        reviewFeatureVecs[counter] = makeFeatureVec(review, model, num_features)\n",
        "        counter = counter + 1\n",
        "    return reviewFeatureVecs\n",
        "\n",
        "f_matrix_train = getAvgFeatureVecs(sentences_train, model, num_features)\n",
        "f_matrix_test = getAvgFeatureVecs(sentences_test, model, num_features)\n",
        "print(\"Числовые вектора предложений полученные из усреднения его векторов слов:\")\n",
        "print(f_matrix_train[:10])"
      ]
    },
    {
      "cell_type": "markdown",
      "id": "8e959839-f5b5-4df6-aaa3-cb9f45b77ee4",
      "metadata": {
        "id": "8e959839-f5b5-4df6-aaa3-cb9f45b77ee4"
      },
      "source": [
        "## Обучение  MLPClassifier"
      ]
    },
    {
      "cell_type": "code",
      "execution_count": 47,
      "id": "459acb4f-d2b4-4b83-a3eb-7d3fe381ca61",
      "metadata": {
        "colab": {
          "base_uri": "https://localhost:8080/"
        },
        "id": "459acb4f-d2b4-4b83-a3eb-7d3fe381ca61",
        "outputId": "cce17438-2732-488d-a669-e70a8dc20580"
      },
      "outputs": [
        {
          "output_type": "stream",
          "name": "stdout",
          "text": [
            "[MLPClassifier(hidden_layer_sizes=(100, 50, 20), random_state=1)]\n"
          ]
        }
      ],
      "source": [
        "model = []\n",
        "#adam солвер это стохастически градиентный оптимизатор\n",
        "m = MLPClassifier(solver='adam', hidden_layer_sizes=(100,50,20), random_state=1)\n",
        "model.append(m)\n",
        "\n",
        "print(model)"
      ]
    },
    {
      "cell_type": "code",
      "execution_count": 48,
      "id": "55185a4e-8a2b-4729-92df-d8e317225e6e",
      "metadata": {
        "colab": {
          "base_uri": "https://localhost:8080/"
        },
        "id": "55185a4e-8a2b-4729-92df-d8e317225e6e",
        "outputId": "f39a0c28-c260-4167-f62b-19d7e6baeaff"
      },
      "outputs": [
        {
          "output_type": "stream",
          "name": "stdout",
          "text": [
            "done\n"
          ]
        }
      ],
      "source": [
        "batch_size = 200\n",
        "total_rows = f_matrix_train.shape[0]\n",
        "duration = 0\n",
        "start_train = time()\n",
        "pos = 0\n",
        "classes = [0.0, 1.0]\n",
        "while duration < 10 and pos < total_rows:\n",
        "    if pos+batch_size > total_rows:\n",
        "        batch_size = total_rows-pos\n",
        "    X_p = f_matrix_train[pos:pos+batch_size]\n",
        "    y_p = y_train.values[pos:pos+batch_size]\n",
        "    model[0].partial_fit(X_p, y_p, classes)\n",
        "    pos = pos + batch_size\n",
        "    duration = time() - start_train\n",
        "    if pos == total_rows:\n",
        "        pos = 0\n",
        "        batch_size = 10000\n",
        "print('done')"
      ]
    },
    {
      "cell_type": "code",
      "execution_count": 49,
      "id": "e8b92fbe-a820-4bfc-9c77-10cbd0e480f7",
      "metadata": {
        "id": "e8b92fbe-a820-4bfc-9c77-10cbd0e480f7"
      },
      "outputs": [],
      "source": [
        "## Сохранение результатов и расчет ошибки"
      ]
    },
    {
      "cell_type": "code",
      "execution_count": 50,
      "id": "fd06d6db-e108-4fb6-92e8-fb9166d6432f",
      "metadata": {
        "colab": {
          "base_uri": "https://localhost:8080/"
        },
        "id": "fd06d6db-e108-4fb6-92e8-fb9166d6432f",
        "outputId": "e4682906-f1b8-45e4-887a-d0ce46d68ff1"
      },
      "outputs": [
        {
          "output_type": "stream",
          "name": "stdout",
          "text": [
            "count test values 4324\n",
            "sum_errors 638.0\n",
            "accuracy 85.24514338575393\n"
          ]
        }
      ],
      "source": [
        "y_test_values=y_test.values\n",
        "predicted_results = model[0].predict_proba(f_matrix_test)\n",
        "predicted_results = np.where(predicted_results[:,0]>predicted_results[:,1], 0.0,1.0)\n",
        "\n",
        "sum_errors =sum(y_test_values - predicted_results)\n",
        "accuracy = (len(y_test_values) - sum_errors) / len(y_test_values) *100\n",
        "print('count test values', len(y_test_values))\n",
        "print('sum_errors', sum_errors)\n",
        "print('accuracy', accuracy)"
      ]
    },
    {
      "cell_type": "code",
      "execution_count": 51,
      "id": "62cb7b25-995e-4b15-a998-9710afb0d3ff",
      "metadata": {
        "id": "62cb7b25-995e-4b15-a998-9710afb0d3ff"
      },
      "outputs": [],
      "source": [
        "saved_result = pd.DataFrame({'text':test.values,\n",
        " 'expected':  y_test_values,\n",
        " 'predicted': predicted_results})"
      ]
    },
    {
      "cell_type": "code",
      "execution_count": 52,
      "id": "8aa3432d-e4cb-4d82-9541-70ff693f9489",
      "metadata": {
        "id": "8aa3432d-e4cb-4d82-9541-70ff693f9489"
      },
      "outputs": [],
      "source": [
        "saved_result.to_csv('result.csv', encoding='utf-8', index=False)"
      ]
    },
    {
      "cell_type": "code",
      "execution_count": 52,
      "id": "877435ef-e795-4995-91ff-bf3dcc61c2f1",
      "metadata": {
        "id": "877435ef-e795-4995-91ff-bf3dcc61c2f1"
      },
      "outputs": [],
      "source": []
    }
  ],
  "metadata": {
    "kernelspec": {
      "display_name": "Python 3 (ipykernel)",
      "language": "python",
      "name": "python3"
    },
    "language_info": {
      "codemirror_mode": {
        "name": "ipython",
        "version": 3
      },
      "file_extension": ".py",
      "mimetype": "text/x-python",
      "name": "python",
      "nbconvert_exporter": "python",
      "pygments_lexer": "ipython3",
      "version": "3.9.18"
    },
    "colab": {
      "provenance": []
    }
  },
  "nbformat": 4,
  "nbformat_minor": 5
}